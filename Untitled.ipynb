{
 "cells": [
  {
   "cell_type": "code",
   "execution_count": 1,
   "metadata": {},
   "outputs": [],
   "source": [
    "print?"
   ]
  },
  {
   "cell_type": "code",
   "execution_count": 2,
   "metadata": {},
   "outputs": [],
   "source": [
    "import pygmo as pg"
   ]
  },
  {
   "cell_type": "code",
   "execution_count": 3,
   "metadata": {},
   "outputs": [],
   "source": [
    "%matplotlib inline"
   ]
  },
  {
   "cell_type": "code",
   "execution_count": 4,
   "metadata": {},
   "outputs": [],
   "source": [
    "from matplotlib import pyplot as plt"
   ]
  },
  {
   "cell_type": "code",
   "execution_count": 5,
   "metadata": {},
   "outputs": [],
   "source": [
    "import numpy as np"
   ]
  },
  {
   "cell_type": "code",
   "execution_count": 6,
   "metadata": {},
   "outputs": [],
   "source": [
    "X = np.linspace(-np.pi, np.pi, 256, endpoint=True)\n",
    "C, S = np.cos(X), np.sin(X)"
   ]
  },
  {
   "cell_type": "code",
   "execution_count": 35,
   "metadata": {},
   "outputs": [],
   "source": [
    "class sphere_function:\n",
    "    def __init__(self, dim):\n",
    "        self.dim = dim\n",
    "        \n",
    "    def fitness(self, x):\n",
    "        return [sum(x*x)]\n",
    "    \n",
    "    def get_bounds(self):\n",
    "        return ([-1] * self.dim, [1] * self.dim)\n",
    "    \n",
    "    def get_name(self):\n",
    "        return \"Sphere Function\"\n",
    "    \n",
    "    def get_extra_info(self):\n",
    "        return \"\\t Dimensions: \" + str(self.dim)"
   ]
  },
  {
   "cell_type": "code",
   "execution_count": 70,
   "metadata": {
    "scrolled": false
   },
   "outputs": [
    {
     "name": "stdout",
     "output_type": "stream",
     "text": [
      "Problem name: Sphere Function\n",
      "\tGlobal dimension:\t\t\t3\n",
      "\tInteger dimension:\t\t\t0\n",
      "\tFitness dimension:\t\t\t1\n",
      "\tNumber of objectives:\t\t\t1\n",
      "\tEquality constraints dimension:\t\t0\n",
      "\tInequality constraints dimension:\t0\n",
      "\tLower bounds: [-1, -1, -1]\n",
      "\tUpper bounds: [1, 1, 1]\n",
      "\n",
      "\tHas gradient: false\n",
      "\tUser implemented gradient sparsity: false\n",
      "\tHas hessians: false\n",
      "\tUser implemented hessians sparsity: false\n",
      "\n",
      "\tFitness evaluations: 0\n",
      "\n",
      "\tThread safety: none\n",
      "\n",
      "Extra info:\n",
      "\t Dimensions: 3\n",
      "----\n",
      "Number of islands: 8\n",
      "Status: busy\n",
      "\n",
      "Islands summaries:\n",
      "\n",
      "\t#  Type                    Algo                              Prob             Size  Status  \n",
      "\t--------------------------------------------------------------------------------------------\n",
      "\t0  Multiprocessing island  PSO: Particle Swarm Optimization  Sphere Function  100   busy    \n",
      "\t1  Multiprocessing island  PSO: Particle Swarm Optimization  Sphere Function  100   busy    \n",
      "\t2  Multiprocessing island  PSO: Particle Swarm Optimization  Sphere Function  100   busy    \n",
      "\t3  Multiprocessing island  PSO: Particle Swarm Optimization  Sphere Function  100   busy    \n",
      "\t4  Multiprocessing island  PSO: Particle Swarm Optimization  Sphere Function  100   busy    \n",
      "\t5  Multiprocessing island  PSO: Particle Swarm Optimization  Sphere Function  100   busy    \n",
      "\t6  Multiprocessing island  PSO: Particle Swarm Optimization  Sphere Function  100   busy    \n",
      "\t7  Multiprocessing island  PSO: Particle Swarm Optimization  Sphere Function  100   busy    \n",
      "\n"
     ]
    }
   ],
   "source": [
    "prob = pg.problem(sphere_function(3))\n",
    "algo = pg.algorithm(pg.pso(gen=200000))\n",
    "archi = pg.archipelago(n=8, algo=algo, prob=prob, pop_size=100)\n",
    "print(prob)\n",
    "print(\"----\")\n",
    "archi.evolve()\n",
    "print(archi)"
   ]
  },
  {
   "cell_type": "code",
   "execution_count": 71,
   "metadata": {},
   "outputs": [
    {
     "name": "stdout",
     "output_type": "stream",
     "text": [
      "Number of islands: 8\n",
      "Status: idle\n",
      "\n",
      "Islands summaries:\n",
      "\n",
      "\t#  Type                    Algo                              Prob             Size  Status  \n",
      "\t--------------------------------------------------------------------------------------------\n",
      "\t0  Multiprocessing island  PSO: Particle Swarm Optimization  Sphere Function  100   idle    \n",
      "\t1  Multiprocessing island  PSO: Particle Swarm Optimization  Sphere Function  100   idle    \n",
      "\t2  Multiprocessing island  PSO: Particle Swarm Optimization  Sphere Function  100   idle    \n",
      "\t3  Multiprocessing island  PSO: Particle Swarm Optimization  Sphere Function  100   idle    \n",
      "\t4  Multiprocessing island  PSO: Particle Swarm Optimization  Sphere Function  100   idle    \n",
      "\t5  Multiprocessing island  PSO: Particle Swarm Optimization  Sphere Function  100   idle    \n",
      "\t6  Multiprocessing island  PSO: Particle Swarm Optimization  Sphere Function  100   idle    \n",
      "\t7  Multiprocessing island  PSO: Particle Swarm Optimization  Sphere Function  100   idle    \n",
      "\n"
     ]
    }
   ],
   "source": [
    "archi.wait()\n",
    "print(archi)"
   ]
  },
  {
   "cell_type": "code",
   "execution_count": 72,
   "metadata": {},
   "outputs": [
    {
     "data": {
      "text/plain": [
       "[array([0.]),\n",
       " array([0.]),\n",
       " array([0.]),\n",
       " array([0.]),\n",
       " array([0.]),\n",
       " array([0.]),\n",
       " array([0.]),\n",
       " array([0.])]"
      ]
     },
     "execution_count": 72,
     "metadata": {},
     "output_type": "execute_result"
    }
   ],
   "source": [
    "archi.get_champions_f()"
   ]
  },
  {
   "cell_type": "code",
   "execution_count": 74,
   "metadata": {},
   "outputs": [
    {
     "data": {
      "text/plain": [
       "[array([-7.54567076e-163, -1.45086638e-162,  4.32033368e-163]),\n",
       " array([ 1.19440133e-162,  2.06642108e-163, -5.42803370e-163]),\n",
       " array([ 1.25536071e-162, -1.07411035e-163,  1.18611795e-162]),\n",
       " array([-2.81132621e-163, -6.44928879e-163,  1.55232938e-162]),\n",
       " array([-1.28741994e-162, -1.08443114e-162, -5.13741761e-163]),\n",
       " array([-6.53545313e-163,  1.31743306e-162,  8.02882616e-163]),\n",
       " array([-7.22783282e-163, -1.24048302e-162,  2.42112127e-163]),\n",
       " array([-6.13465318e-163,  6.81636187e-163, -9.10626473e-163])]"
      ]
     },
     "execution_count": 74,
     "metadata": {},
     "output_type": "execute_result"
    }
   ],
   "source": [
    "archi.get_champions_x()"
   ]
  },
  {
   "cell_type": "code",
   "execution_count": null,
   "metadata": {},
   "outputs": [],
   "source": []
  }
 ],
 "metadata": {
  "kernelspec": {
   "display_name": "Python 3",
   "language": "python",
   "name": "python3"
  },
  "language_info": {
   "codemirror_mode": {
    "name": "ipython",
    "version": 3
   },
   "file_extension": ".py",
   "mimetype": "text/x-python",
   "name": "python",
   "nbconvert_exporter": "python",
   "pygments_lexer": "ipython3",
   "version": "3.5.2"
  }
 },
 "nbformat": 4,
 "nbformat_minor": 2
}
